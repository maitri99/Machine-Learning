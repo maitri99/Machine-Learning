{
 "cells": [
  {
   "cell_type": "code",
   "execution_count": 110,
   "metadata": {},
   "outputs": [],
   "source": [
    "import numpy as np\n",
    "import pandas as pd\n",
    "import matplotlib.pyplot as pltc\n",
    "from matplotlib.colors import ListedColormap"
   ]
  },
  {
   "cell_type": "code",
   "execution_count": 111,
   "metadata": {},
   "outputs": [
    {
     "name": "stdout",
     "output_type": "stream",
     "text": [
      "0 [5.1 3.5 1.4 0.2 'Iris-setosa']\n",
      "1 [4.9 3.0 1.4 0.2 'Iris-setosa']\n",
      "2 [4.7 3.2 1.3 0.2 'Iris-setosa']\n",
      "3 [4.6 3.1 1.5 0.2 'Iris-setosa']\n",
      "4 [5.0 3.6 1.4 0.2 'Iris-setosa']\n",
      "5 [5.4 3.9 1.7 0.4 'Iris-setosa']\n",
      "6 [4.6 3.4 1.4 0.3 'Iris-setosa']\n",
      "7 [5.0 3.4 1.5 0.2 'Iris-setosa']\n",
      "8 [4.4 2.9 1.4 0.2 'Iris-setosa']\n",
      "9 [4.9 3.1 1.5 0.1 'Iris-setosa']\n",
      "10 [5.4 3.7 1.5 0.2 'Iris-setosa']\n",
      "11 [4.8 3.4 1.6 0.2 'Iris-setosa']\n",
      "12 [4.8 3.0 1.4 0.1 'Iris-setosa']\n",
      "13 [4.3 3.0 1.1 0.1 'Iris-setosa']\n",
      "14 [5.8 4.0 1.2 0.2 'Iris-setosa']\n",
      "15 [5.7 4.4 1.5 0.4 'Iris-setosa']\n",
      "16 [5.4 3.9 1.3 0.4 'Iris-setosa']\n",
      "17 [5.1 3.5 1.4 0.3 'Iris-setosa']\n",
      "18 [5.7 3.8 1.7 0.3 'Iris-setosa']\n",
      "19 [5.1 3.8 1.5 0.3 'Iris-setosa']\n",
      "20 [5.4 3.4 1.7 0.2 'Iris-setosa']\n",
      "21 [5.1 3.7 1.5 0.4 'Iris-setosa']\n",
      "22 [4.6 3.6 1.0 0.2 'Iris-setosa']\n",
      "23 [5.1 3.3 1.7 0.5 'Iris-setosa']\n",
      "24 [4.8 3.4 1.9 0.2 'Iris-setosa']\n",
      "25 [5.0 3.0 1.6 0.2 'Iris-setosa']\n",
      "26 [5.0 3.4 1.6 0.4 'Iris-setosa']\n",
      "27 [5.2 3.5 1.5 0.2 'Iris-setosa']\n",
      "28 [5.2 3.4 1.4 0.2 'Iris-setosa']\n",
      "29 [4.7 3.2 1.6 0.2 'Iris-setosa']\n",
      "30 [4.8 3.1 1.6 0.2 'Iris-setosa']\n",
      "31 [5.4 3.4 1.5 0.4 'Iris-setosa']\n",
      "32 [5.2 4.1 1.5 0.1 'Iris-setosa']\n",
      "33 [5.5 4.2 1.4 0.2 'Iris-setosa']\n",
      "34 [4.9 3.1 1.5 0.1 'Iris-setosa']\n",
      "35 [5.0 3.2 1.2 0.2 'Iris-setosa']\n",
      "36 [5.5 3.5 1.3 0.2 'Iris-setosa']\n",
      "37 [4.9 3.1 1.5 0.1 'Iris-setosa']\n",
      "38 [4.4 3.0 1.3 0.2 'Iris-setosa']\n",
      "39 [5.1 3.4 1.5 0.2 'Iris-setosa']\n",
      "40 [5.0 3.5 1.3 0.3 'Iris-setosa']\n",
      "41 [4.5 2.3 1.3 0.3 'Iris-setosa']\n",
      "42 [4.4 3.2 1.3 0.2 'Iris-setosa']\n",
      "43 [5.0 3.5 1.6 0.6 'Iris-setosa']\n",
      "44 [5.1 3.8 1.9 0.4 'Iris-setosa']\n",
      "45 [4.8 3.0 1.4 0.3 'Iris-setosa']\n",
      "46 [5.1 3.8 1.6 0.2 'Iris-setosa']\n",
      "47 [4.6 3.2 1.4 0.2 'Iris-setosa']\n",
      "48 [5.3 3.7 1.5 0.2 'Iris-setosa']\n",
      "49 [5.0 3.3 1.4 0.2 'Iris-setosa']\n",
      "50 [7.0 3.2 4.7 1.4 'Iris-versicolor']\n",
      "51 [6.4 3.2 4.5 1.5 'Iris-versicolor']\n",
      "52 [6.9 3.1 4.9 1.5 'Iris-versicolor']\n",
      "53 [5.5 2.3 4.0 1.3 'Iris-versicolor']\n",
      "54 [6.5 2.8 4.6 1.5 'Iris-versicolor']\n",
      "55 [5.7 2.8 4.5 1.3 'Iris-versicolor']\n",
      "56 [6.3 3.3 4.7 1.6 'Iris-versicolor']\n",
      "57 [4.9 2.4 3.3 1.0 'Iris-versicolor']\n",
      "58 [6.6 2.9 4.6 1.3 'Iris-versicolor']\n",
      "59 [5.2 2.7 3.9 1.4 'Iris-versicolor']\n",
      "60 [5.0 2.0 3.5 1.0 'Iris-versicolor']\n",
      "61 [5.9 3.0 4.2 1.5 'Iris-versicolor']\n",
      "62 [6.0 2.2 4.0 1.0 'Iris-versicolor']\n",
      "63 [6.1 2.9 4.7 1.4 'Iris-versicolor']\n",
      "64 [5.6 2.9 3.6 1.3 'Iris-versicolor']\n",
      "65 [6.7 3.1 4.4 1.4 'Iris-versicolor']\n",
      "66 [5.6 3.0 4.5 1.5 'Iris-versicolor']\n",
      "67 [5.8 2.7 4.1 1.0 'Iris-versicolor']\n",
      "68 [6.2 2.2 4.5 1.5 'Iris-versicolor']\n",
      "69 [5.6 2.5 3.9 1.1 'Iris-versicolor']\n",
      "70 [5.9 3.2 4.8 1.8 'Iris-versicolor']\n",
      "71 [6.1 2.8 4.0 1.3 'Iris-versicolor']\n",
      "72 [6.3 2.5 4.9 1.5 'Iris-versicolor']\n",
      "73 [6.1 2.8 4.7 1.2 'Iris-versicolor']\n",
      "74 [6.4 2.9 4.3 1.3 'Iris-versicolor']\n",
      "75 [6.6 3.0 4.4 1.4 'Iris-versicolor']\n",
      "76 [6.8 2.8 4.8 1.4 'Iris-versicolor']\n",
      "77 [6.7 3.0 5.0 1.7 'Iris-versicolor']\n",
      "78 [6.0 2.9 4.5 1.5 'Iris-versicolor']\n",
      "79 [5.7 2.6 3.5 1.0 'Iris-versicolor']\n",
      "80 [5.5 2.4 3.8 1.1 'Iris-versicolor']\n",
      "81 [5.5 2.4 3.7 1.0 'Iris-versicolor']\n",
      "82 [5.8 2.7 3.9 1.2 'Iris-versicolor']\n",
      "83 [6.0 2.7 5.1 1.6 'Iris-versicolor']\n",
      "84 [5.4 3.0 4.5 1.5 'Iris-versicolor']\n",
      "85 [6.0 3.4 4.5 1.6 'Iris-versicolor']\n",
      "86 [6.7 3.1 4.7 1.5 'Iris-versicolor']\n",
      "87 [6.3 2.3 4.4 1.3 'Iris-versicolor']\n",
      "88 [5.6 3.0 4.1 1.3 'Iris-versicolor']\n",
      "89 [5.5 2.5 4.0 1.3 'Iris-versicolor']\n",
      "90 [5.5 2.6 4.4 1.2 'Iris-versicolor']\n",
      "91 [6.1 3.0 4.6 1.4 'Iris-versicolor']\n",
      "92 [5.8 2.6 4.0 1.2 'Iris-versicolor']\n",
      "93 [5.0 2.3 3.3 1.0 'Iris-versicolor']\n",
      "94 [5.6 2.7 4.2 1.3 'Iris-versicolor']\n",
      "95 [5.7 3.0 4.2 1.2 'Iris-versicolor']\n",
      "96 [5.7 2.9 4.2 1.3 'Iris-versicolor']\n",
      "97 [6.2 2.9 4.3 1.3 'Iris-versicolor']\n",
      "98 [5.1 2.5 3.0 1.1 'Iris-versicolor']\n",
      "99 [5.7 2.8 4.1 1.3 'Iris-versicolor']\n",
      "100 [6.3 3.3 6.0 2.5 'Iris-virginica']\n",
      "101 [5.8 2.7 5.1 1.9 'Iris-virginica']\n",
      "102 [7.1 3.0 5.9 2.1 'Iris-virginica']\n",
      "103 [6.3 2.9 5.6 1.8 'Iris-virginica']\n",
      "104 [6.5 3.0 5.8 2.2 'Iris-virginica']\n",
      "105 [7.6 3.0 6.6 2.1 'Iris-virginica']\n",
      "106 [4.9 2.5 4.5 1.7 'Iris-virginica']\n",
      "107 [7.3 2.9 6.3 1.8 'Iris-virginica']\n",
      "108 [6.7 2.5 5.8 1.8 'Iris-virginica']\n",
      "109 [7.2 3.6 6.1 2.5 'Iris-virginica']\n",
      "110 [6.5 3.2 5.1 2.0 'Iris-virginica']\n",
      "111 [6.4 2.7 5.3 1.9 'Iris-virginica']\n",
      "112 [6.8 3.0 5.5 2.1 'Iris-virginica']\n",
      "113 [5.7 2.5 5.0 2.0 'Iris-virginica']\n",
      "114 [5.8 2.8 5.1 2.4 'Iris-virginica']\n",
      "115 [6.4 3.2 5.3 2.3 'Iris-virginica']\n",
      "116 [6.5 3.0 5.5 1.8 'Iris-virginica']\n",
      "117 [7.7 3.8 6.7 2.2 'Iris-virginica']\n",
      "118 [7.7 2.6 6.9 2.3 'Iris-virginica']\n",
      "119 [6.0 2.2 5.0 1.5 'Iris-virginica']\n",
      "120 [6.9 3.2 5.7 2.3 'Iris-virginica']\n",
      "121 [5.6 2.8 4.9 2.0 'Iris-virginica']\n",
      "122 [7.7 2.8 6.7 2.0 'Iris-virginica']\n",
      "123 [6.3 2.7 4.9 1.8 'Iris-virginica']\n",
      "124 [6.7 3.3 5.7 2.1 'Iris-virginica']\n",
      "125 [7.2 3.2 6.0 1.8 'Iris-virginica']\n",
      "126 [6.2 2.8 4.8 1.8 'Iris-virginica']\n",
      "127 [6.1 3.0 4.9 1.8 'Iris-virginica']\n",
      "128 [6.4 2.8 5.6 2.1 'Iris-virginica']\n",
      "129 [7.2 3.0 5.8 1.6 'Iris-virginica']\n",
      "130 [7.4 2.8 6.1 1.9 'Iris-virginica']\n",
      "131 [7.9 3.8 6.4 2.0 'Iris-virginica']\n",
      "132 [6.4 2.8 5.6 2.2 'Iris-virginica']\n",
      "133 [6.3 2.8 5.1 1.5 'Iris-virginica']\n",
      "134 [6.1 2.6 5.6 1.4 'Iris-virginica']\n",
      "135 [7.7 3.0 6.1 2.3 'Iris-virginica']\n",
      "136 [6.3 3.4 5.6 2.4 'Iris-virginica']\n",
      "137 [6.4 3.1 5.5 1.8 'Iris-virginica']\n",
      "138 [6.0 3.0 4.8 1.8 'Iris-virginica']\n",
      "139 [6.9 3.1 5.4 2.1 'Iris-virginica']\n",
      "140 [6.7 3.1 5.6 2.4 'Iris-virginica']\n",
      "141 [6.9 3.1 5.1 2.3 'Iris-virginica']\n",
      "142 [5.8 2.7 5.1 1.9 'Iris-virginica']\n",
      "143 [6.8 3.2 5.9 2.3 'Iris-virginica']\n",
      "144 [6.7 3.3 5.7 2.5 'Iris-virginica']\n",
      "145 [6.7 3.0 5.2 2.3 'Iris-virginica']\n",
      "146 [6.3 2.5 5.0 1.9 'Iris-virginica']\n",
      "147 [6.5 3.0 5.2 2.0 'Iris-virginica']\n",
      "148 [6.2 3.4 5.4 2.3 'Iris-virginica']\n",
      "149 [5.9 3.0 5.1 1.8 'Iris-virginica']\n"
     ]
    }
   ],
   "source": [
    "# read Iris data set\n",
    "\n",
    "#df = pd.read_csv('https://archive.ics.uci.edu/ml/machine-learning-databases/iris/iris.data', header = None)\n",
    "\n",
    "df.tail()\n",
    "\n",
    "IA = df.iloc[:,:].values\n",
    "for i_ in range(0,len(df),1):\n",
    "    print(i_, IA[i_,:])\n",
    "\n",
    "Cl = IA[:,4]"
   ]
  },
  {
   "cell_type": "code",
   "execution_count": 112,
   "metadata": {},
   "outputs": [
    {
     "name": "stdout",
     "output_type": "stream",
     "text": [
      "['Iris-setosa' 'Iris-versicolor' 'Iris-virginica']\n"
     ]
    }
   ],
   "source": [
    "# get Iris classifications\n",
    "\n",
    "IC = np.unique(IA[:,4])\n",
    "print (IC)"
   ]
  },
  {
   "cell_type": "code",
   "execution_count": 113,
   "metadata": {},
   "outputs": [
    {
     "name": "stdout",
     "output_type": "stream",
     "text": [
      "sepal length in cm\n",
      "sepal width in cm\n",
      "petal length in cm\n",
      "petal width in cm\n"
     ]
    }
   ],
   "source": [
    "# setup Iris feature lablels\n",
    "\n",
    "IrisF=(\"sepal length in cm\", \"sepal width in cm\", \"petal length in cm\", \"petal width in cm\")\n",
    "for i in range(0,4):\n",
    "    print(IrisF[i])\n"
   ]
  },
  {
   "cell_type": "code",
   "execution_count": 114,
   "metadata": {},
   "outputs": [],
   "source": [
    "class AdalineGD(object):\n",
    "    \"\"\"ADAptive LInear NEuron classifier.\n",
    "\n",
    "    Code from \"Python Machine Learning,\" Sebastian Raschka, Packt Publishing, 2015,\n",
    "    with modifications.\n",
    "\n",
    "    Parameters\n",
    "    ------------\n",
    "    eta : float\n",
    "        Learning rate (between 0.0 and 1.0)\n",
    "    n_iter : int\n",
    "        Passes over the training dataset.\n",
    "\n",
    "    Attributes\n",
    "    -----------\n",
    "    w_ : 1d-array\n",
    "        Weights after fitting.\n",
    "    errors_ : list\n",
    "        Number of misclassifications in every epoch.\n",
    "\n",
    "    \"\"\"\n",
    "    def __init__(self, eta=0.01, n_iter=50):\n",
    "        self.eta = eta\n",
    "        self.n_iter = n_iter\n",
    "\n",
    "    def fit(self, X, y):\n",
    "        \"\"\" Fit training data.\n",
    "\n",
    "        Parameters\n",
    "        ----------\n",
    "        X : {array-like}, shape = [n_samples, n_features]\n",
    "            Training vectors, where n_samples is the number of samples and\n",
    "            n_features is the number of features.\n",
    "        y : array-like, shape = [n_samples]\n",
    "            Target values.\n",
    "\n",
    "        Returns\n",
    "        -------\n",
    "        self : object\n",
    "\n",
    "        \"\"\"\n",
    "        self.w_ = np.zeros(1 + X.shape[1])\n",
    "        self.cost_ = []\n",
    "\n",
    "        for i in range(self.n_iter):\n",
    "            output = self.net_input(X)\n",
    "            errors = (y - output)\n",
    "            self.w_[1:] += self.eta * X.T.dot(errors)\n",
    "            self.w_[0] += self.eta * errors.sum()\n",
    "            cost = (errors**2).sum() / 2.0\n",
    "            self.cost_.append(cost)\n",
    "        return self\n",
    "\n",
    "    def net_input(self, X):\n",
    "        \"\"\" Calculate net input \"\"\"\n",
    "        return (np.dot(X, self.w_[1:]) + self.w_[0])\n",
    "\n",
    "    def activation(self, X):\n",
    "        \"\"\" Compute linear activation \"\"\"\n",
    "        return self.net_input(X)\n",
    "\n",
    "    def predict(self, X):\n",
    "        \"\"\" Return class label after unit step \"\"\"\n",
    "        return np.where(self.activation(X) >= 0.0, 1, -1) \n",
    "    \n",
    "    def accuracy(self, X, y):\n",
    "        \"\"\" Return accuracy of the model \"\"\"\n",
    "        return (1.0 - abs(y - self.predict(X)).sum() / (2.0 * y.size))\n",
    "        "
   ]
  },
  {
   "cell_type": "code",
   "execution_count": 115,
   "metadata": {},
   "outputs": [],
   "source": [
    "# Now we'll try it with classes that are not linearly separable"
   ]
  },
  {
   "cell_type": "code",
   "execution_count": 116,
   "metadata": {},
   "outputs": [],
   "source": [
    "# focus on classification of \"versicolor\" and \"verginica\", class indexes 1 and 2\n",
    "# set to 1 and -1 in class array\n",
    "cdx = np.array([1,2])   \n",
    "# focus on the features \"sepal length\" and \"petal length\", feature indexes 0 and 2\n",
    "fdx = np.array([0,2])"
   ]
  },
  {
   "cell_type": "code",
   "execution_count": 117,
   "metadata": {
    "scrolled": true
   },
   "outputs": [],
   "source": [
    "i = 0\n",
    "numCl = 0\n",
    "for i in range(0 , len(Cl)):\n",
    "    if Cl[i] == IC[cdx[0]]:\n",
    "        numCl += 1\n",
    "    if Cl[i] == IC[cdx[1]]:\n",
    "        numCl += 1    \n",
    "    i += 1  \n",
    "    \n",
    "NC = np.zeros((numCl))\n",
    "NF = np.zeros((numCl, 2))\n",
    "\n",
    "i = 0\n",
    "j = 0\n",
    "for i in range(0 , len(Cl)):\n",
    "    if Cl[i] == IC[cdx[0]]:        \n",
    "        NC[j] = 1\n",
    "        NF[j,0] = IA[i,fdx[0]]\n",
    "        NF[j,1] = IA[i,fdx[1]]\n",
    "        j += 1\n",
    "    if Cl[i] == IC[cdx[1]]:      \n",
    "        NC[j] = -1\n",
    "        NF[j,0] = IA[i,fdx[0]]\n",
    "        NF[j,1] = IA[i,fdx[1]]\n",
    "        j += 1\n",
    "    i += 1"
   ]
  },
  {
   "cell_type": "code",
   "execution_count": 118,
   "metadata": {},
   "outputs": [
    {
     "data": {
      "image/png": "[encoded data removed]",
      "text/plain": [
       "<Figure size 288x288 with 1 Axes>"
      ]
     },
     "metadata": {
      "needs_background": "light"
     },
     "output_type": "display_data"
    }
   ],
   "source": [
    "plt.close('all')\n",
    "fig, ax = plt.subplots(nrows=1, ncols=1, figsize = (4,4))\n",
    "ada = AdalineGD(n_iter=10, eta=0.1).fit(NF, NC)\n",
    "ax.semilogy(range(1, len(ada.cost_) + 1), ada.cost_, marker = 'o')\n",
    "ax.set_xlabel('Epoch')\n",
    "ax.set_ylabel('log(Sum-squared-error)')\n",
    "ax.set_title('Adaline: eta = 0.1', fontsize ='medium')\n",
    "plt.show()"
   ]
  },
  {
   "cell_type": "code",
   "execution_count": 119,
   "metadata": {},
   "outputs": [
    {
     "data": {
      "image/png": "[encoded data removed]",
      "text/plain": [
       "<Figure size 288x288 with 1 Axes>"
      ]
     },
     "metadata": {
      "needs_background": "light"
     },
     "output_type": "display_data"
    }
   ],
   "source": [
    "plt.close('all')\n",
    "fig, ax = plt.subplots(nrows=1, ncols=1, figsize = (4,4))\n",
    "ada = AdalineGD(n_iter=10, eta=0.01).fit(NF, NC)\n",
    "ax.semilogy(range(1, len(ada.cost_) + 1), ada.cost_, marker = 'o')\n",
    "ax.set_xlabel('Epoch')\n",
    "ax.set_ylabel('Sum-squared-error')\n",
    "ax.set_title('Adaline: eta = 0.01', fontsize ='medium')\n",
    "plt.show()"
   ]
  },
  {
   "cell_type": "code",
   "execution_count": 120,
   "metadata": {
    "scrolled": true
   },
   "outputs": [
    {
     "data": {
      "image/png": "[encoded data removed]",
      "text/plain": [
       "<Figure size 288x288 with 1 Axes>"
      ]
     },
     "metadata": {
      "needs_background": "light"
     },
     "output_type": "display_data"
    }
   ],
   "source": [
    "plt.close('all')\n",
    "fig, ax = plt.subplots(nrows=1, ncols=1, figsize = (4,4))\n",
    "ada = AdalineGD(n_iter=10, eta=0.001).fit(NF, NC)\n",
    "ax.semilogy(range(1, len(ada.cost_) + 1), ada.cost_, marker = 'o')\n",
    "ax.set_xlabel('Epoch')\n",
    "ax.set_ylabel('Sum-squared-error')\n",
    "ax.set_title('Adaline: eta = 0.001', fontsize ='medium')\n",
    "plt.show()"
   ]
  },
  {
   "cell_type": "code",
   "execution_count": 121,
   "metadata": {},
   "outputs": [
    {
     "data": {
      "image/png": "[encoded data removed]",
      "text/plain": [
       "<Figure size 288x288 with 1 Axes>"
      ]
     },
     "metadata": {
      "needs_background": "light"
     },
     "output_type": "display_data"
    }
   ],
   "source": [
    "plt.close('all')\n",
    "fig, ax = plt.subplots(nrows=1, ncols=1, figsize = (4,4))\n",
    "ada = AdalineGD(n_iter=10, eta=0.0001).fit(NF, NC)\n",
    "ax.semilogy(range(1, len(ada.cost_) + 1), ada.cost_, marker = 'o')\n",
    "ax.set_xlabel('Epoch')\n",
    "ax.set_ylabel('Sum-squared-error')\n",
    "ax.set_title('Adaline: eta = 0.0001', fontsize ='medium')\n",
    "plt.show()"
   ]
  },
  {
   "cell_type": "code",
   "execution_count": 122,
   "metadata": {},
   "outputs": [],
   "source": [
    "# Standardize Inputs\n",
    "\n",
    "NF_Std = np.copy(NF)\n",
    "NF_Std[:,0] = (NF[:,0] - NF[:,0].mean()) / NF[:,0].std()\n",
    "NF_Std[:,1] = (NF[:,1] - NF[:,1].mean()) / NF[:,1].std()"
   ]
  },
  {
   "cell_type": "code",
   "execution_count": 123,
   "metadata": {},
   "outputs": [
    {
     "data": {
      "image/png": "[encoded data removed]",
      "text/plain": [
       "<Figure size 576x288 with 2 Axes>"
      ]
     },
     "metadata": {
      "needs_background": "light"
     },
     "output_type": "display_data"
    }
   ],
   "source": [
    "plt.close('all')\n",
    "fig, ax = plt.subplots(nrows=1, ncols=2, figsize = (8,4))\n",
    "\n",
    "ada = AdalineGD(n_iter=50, eta=0.003)\n",
    "ada.fit(NF_Std, NC)\n",
    "ax[0].plot(range(1, len(ada.cost_) + 1), ada.cost_)\n",
    "ax[0].set_xlabel('Epoch')\n",
    "ax[0].set_ylabel('Sum-squared-error')\n",
    "ax[0].set_title('Adaline: eta = 0.003', fontsize='medium')\n",
    "ax[1].semilogy(range(1, len(ada.cost_) + 1), ada.cost_)\n",
    "ax[1].set_xlabel('Epoch')\n",
    "ax[1].set_ylabel('Sum-squared-error')\n",
    "ax[1].set_title('Adaline: eta = 0.003', fontsize='medium')\n",
    "plt.show()"
   ]
  },
  {
   "cell_type": "code",
   "execution_count": 124,
   "metadata": {},
   "outputs": [],
   "source": [
    "from matplotlib.colors import ListedColormap\n",
    "def plot_decision_regions(X, y, classifier, resolution=0.01):\n",
    "\n",
    "    # setup marker generator and color map\n",
    "    colors = ('blue', 'green')\n",
    "    cmap = ListedColormap(colors[:len(np.unique(y))])\n",
    "\n",
    "    # plot the decision surface\n",
    "    x1_min, x1_max = X[:, 0].min() - 1, X[:, 0].max() + 1\n",
    "    x2_min, x2_max = X[:, 1].min() - 1, X[:, 1].max() + 1\n",
    "    xx1, xx2 = np.meshgrid(np.arange(x1_min, x1_max, resolution),\n",
    "                         np.arange(x2_min, x2_max, resolution))\n",
    "    Z = classifier.predict(np.array([xx1.ravel(), xx2.ravel()]).T)\n",
    "    Z = Z.reshape(xx1.shape)\n",
    "    plt.contourf(xx1, xx2, Z, alpha=0.2, cmap=cmap)\n",
    "    plt.xlim(xx1.min(), xx1.max())\n",
    "    plt.ylim(xx2.min(), xx2.max())\n",
    "\n",
    "    # plot class samples\n",
    "    for idx, cl in enumerate(np.unique(y)):\n",
    "        plt.scatter(x=X[y == cl, 0], y=X[y == cl, 1],\n",
    "                    alpha=0.8, label=IC[cdx[idx]])"
   ]
  },
  {
   "cell_type": "code",
   "execution_count": 125,
   "metadata": {},
   "outputs": [],
   "source": [
    "def second_dimension(first_feature, second_feature):\n",
    "    global cdx, Cl, IC, pltC, pltM, IrisF\n",
    "    global twoFeature\n",
    "    fdx = np.array([first_feature, second_feature]) \n",
    "\n",
    "    i = 0\n",
    "    numCl = 0\n",
    "    for i in range(0 , len(Cl)):\n",
    "        if Cl[i] == IC[cdx[0]]:\n",
    "            numCl += 1\n",
    "        if Cl[i] == IC[cdx[1]]:\n",
    "            numCl += 1    \n",
    "        i += 1  \n",
    "\n",
    "    NC = np.zeros((numCl))\n",
    "    NF = np.zeros((numCl, 2))\n",
    "\n",
    "    i = 0\n",
    "    j = 0\n",
    "    for i in range(0 , len(Cl)):\n",
    "        if Cl[i] == IC[cdx[0]]:        \n",
    "            NC[j] = 1\n",
    "            NF[j,0] = IA[i,fdx[0]]\n",
    "            NF[j,1] = IA[i,fdx[1]]\n",
    "            j += 1\n",
    "        if Cl[i] == IC[cdx[1]]:      \n",
    "            NC[j] = -1\n",
    "            NF[j,0] = IA[i,fdx[0]]\n",
    "            NF[j,1] = IA[i,fdx[1]]\n",
    "            j += 1\n",
    "        i += 1\n",
    "        \n",
    "    # Standardize Inputs\n",
    "    NF_Std = np.copy(NF)\n",
    "    NF_Std[:,0] = (NF[:,0] - NF[:,0].mean()) / NF[:,0].std()\n",
    "    NF_Std[:,1] = (NF[:,1] - NF[:,1].mean()) / NF[:,1].std()\n",
    "\n",
    "    # Create Adaline\n",
    "    ada = AdalineGD(n_iter=50, eta=0.003)\n",
    "    ada.fit(NF_Std, NC)\n",
    "\n",
    "    # Plot the Graph\n",
    "    plt.close('all')\n",
    "    plot_decision_regions(NF_Std, NC, classifier = ada)\n",
    "    plt.title('Adaline - Gradient Descent', fontsize='medium')\n",
    "    plt.xlabel(str(IrisF[first_feature])) #fix the label\n",
    "    plt.ylabel(str(IrisF[second_feature])) #fix the label\n",
    "    plt.legend(loc='upper left', fontsize='small')\n",
    "    plt.show()\n",
    "    twoFeature.append((ada.accuracy(NF_Std, NC)*100))\n",
    "    print(\"Adaline Accuracy Level: \" + str((ada.accuracy(NF_Std, NC)*100)) + \"%\")"
   ]
  },
  {
   "cell_type": "markdown",
   "metadata": {},
   "source": [
    "Here, we will standardize the inputs for the practical reasons to make the training faster and to avoid getting struck from local optima. Meaning, our Gradient Descent will converge more quickly upon standardization."
   ]
  },
  {
   "cell_type": "code",
   "execution_count": 126,
   "metadata": {},
   "outputs": [],
   "source": [
    "def third_dimension(first_feature, second_feature, third_feature):\n",
    "    global cdx, Cl, IC, pltC, pltM, IrisF\n",
    "    global threeFeature\n",
    "    fdx = np.array([first_feature, second_feature, third_feature]) \n",
    "\n",
    "    i = 0\n",
    "    numCl = 0\n",
    "    for i in range(0 , len(Cl)):\n",
    "        if Cl[i] == IC[cdx[0]]:\n",
    "            numCl += 1\n",
    "        if Cl[i] == IC[cdx[1]]:\n",
    "            numCl += 1    \n",
    "        i += 1  \n",
    "\n",
    "    NC = np.zeros((numCl))\n",
    "    NF = np.zeros((numCl, 3))\n",
    "\n",
    "    i = 0\n",
    "    j = 0\n",
    "    for i in range(0 , len(Cl)):\n",
    "        if Cl[i] == IC[cdx[0]]:        \n",
    "            NC[j] = 1\n",
    "            NF[j,0] = IA[i,fdx[0]]\n",
    "            NF[j,1] = IA[i,fdx[1]]\n",
    "            NF[j,2] = IA[i,fdx[2]]\n",
    "            j += 1\n",
    "        if Cl[i] == IC[cdx[1]]:      \n",
    "            NC[j] = -1\n",
    "            NF[j,0] = IA[i,fdx[0]]\n",
    "            NF[j,1] = IA[i,fdx[1]]\n",
    "            NF[j,2] = IA[i,fdx[2]]\n",
    "            j += 1\n",
    "        i += 1\n",
    "\n",
    "    # Standardize Inputs\n",
    "    NF_Std = np.copy(NF)\n",
    "    NF_Std[:,0] = (NF[:,0] - NF[:,0].mean()) / NF[:,0].std()\n",
    "    NF_Std[:,1] = (NF[:,1] - NF[:,1].mean()) / NF[:,1].std()\n",
    "    NF_Std[:,2] = (NF[:,2] - NF[:,2].mean()) / NF[:,2].std()\n",
    "    \n",
    "    # Create Adaline\n",
    "    ada = AdalineGD(n_iter=50, eta=0.003)\n",
    "    ada.fit(NF_Std, NC)\n",
    "    \n",
    "    threeFeature.append(((ada.accuracy(NF_Std, NC)*100)))\n",
    "    print(\"Adaline Accuracy Level: \" + str((ada.accuracy(NF_Std, NC)*100)) + \"%\")"
   ]
  },
  {
   "cell_type": "code",
   "execution_count": 127,
   "metadata": {},
   "outputs": [],
   "source": [
    "def fourth_dimension(first_feature, second_feature, third_feature, fourth_feature):\n",
    "    global cdx, Cl, IC, pltC, pltM, IrisF\n",
    "    global fourFeature\n",
    "    fdx = np.array([first_feature, second_feature, third_feature, fourth_feature]) \n",
    "\n",
    "    i = 0\n",
    "    numCl = 0\n",
    "    for i in range(0 , len(Cl)):\n",
    "        if Cl[i] == IC[cdx[0]]:\n",
    "            numCl += 1\n",
    "        if Cl[i] == IC[cdx[1]]:\n",
    "            numCl += 1    \n",
    "        i += 1  \n",
    "\n",
    "    NC = np.zeros((numCl))\n",
    "    NF = np.zeros((numCl, 4))\n",
    "\n",
    "    i = 0\n",
    "    j = 0\n",
    "    for i in range(0 , len(Cl)):\n",
    "        if Cl[i] == IC[cdx[0]]:        \n",
    "            NC[j] = 1\n",
    "            NF[j,0] = IA[i,fdx[0]]\n",
    "            NF[j,1] = IA[i,fdx[1]]\n",
    "            NF[j,2] = IA[i,fdx[2]]\n",
    "            NF[j,3] = IA[i,fdx[3]]\n",
    "            j += 1\n",
    "        if Cl[i] == IC[cdx[1]]:      \n",
    "            NC[j] = -1\n",
    "            NF[j,0] = IA[i,fdx[0]]\n",
    "            NF[j,1] = IA[i,fdx[1]]\n",
    "            NF[j,2] = IA[i,fdx[2]]\n",
    "            NF[j,3] = IA[i,fdx[3]]\n",
    "            j += 1\n",
    "        i += 1\n",
    "        \n",
    "    # Standardize Inputs\n",
    "    NF_Std = np.copy(NF)\n",
    "    NF_Std[:,0] = (NF[:,0] - NF[:,0].mean()) / NF[:,0].std()\n",
    "    NF_Std[:,1] = (NF[:,1] - NF[:,1].mean()) / NF[:,1].std()\n",
    "    NF_Std[:,2] = (NF[:,2] - NF[:,2].mean()) / NF[:,2].std()\n",
    "    NF_Std[:,3] = (NF[:,3] - NF[:,3].mean()) / NF[:,3].std()\n",
    "\n",
    "\n",
    "    # Create Adaline\n",
    "    ada = AdalineGD(n_iter=50, eta=0.003)\n",
    "    ada.fit(NF_Std, NC)\n",
    "    fourFeature.append(((ada.accuracy(NF_Std, NC)*100)))\n",
    "    print(\"Adaline Accuracy Level: \" + str((ada.accuracy(NF_Std, NC)*100)) + \"%\")"
   ]
  },
  {
   "cell_type": "markdown",
   "metadata": {},
   "source": [
    "Here, we used 50 iterations and the learning rate as 0.003. We can change the rate a bit and the results will stay mostly the same. But if we change the numbers significantly, we may have the problem of larger error in every epoch!"
   ]
  },
  {
   "cell_type": "markdown",
   "metadata": {},
   "source": [
    "## ALL SIX CASES OF USING TWO FEATURES AT A TIME"
   ]
  },
  {
   "cell_type": "code",
   "execution_count": 128,
   "metadata": {},
   "outputs": [
    {
     "data": {
      "image/png": "[encoded data removed]",
      "text/plain": [
       "<Figure size 432x288 with 1 Axes>"
      ]
     },
     "metadata": {
      "needs_background": "light"
     },
     "output_type": "display_data"
    },
    {
     "name": "stdout",
     "output_type": "stream",
     "text": [
      "Adaline Accuracy Level: 75.0%\n"
     ]
    },
    {
     "data": {
      "image/png": "[encoded data removed]",
      "text/plain": [
       "<Figure size 432x288 with 1 Axes>"
      ]
     },
     "metadata": {
      "needs_background": "light"
     },
     "output_type": "display_data"
    },
    {
     "name": "stdout",
     "output_type": "stream",
     "text": [
      "Adaline Accuracy Level: 94.0%\n"
     ]
    }
   ],
   "source": [
    "# Sepal Length & Sepal Width\n",
    "twoFeature_description = []\n",
    "twoFeature = [];\n",
    "twoFeature_description.append(\"Sepal Length & Sepal Width\")\n",
    "second_dimension(0,1)\n",
    "\n",
    "# Sepal Length & Petal Length\n",
    "twoFeature_description.append(\"Sepal Length & Petal Length\")\n",
    "second_dimension(0,2)\n"
   ]
  },
  {
   "cell_type": "code",
   "execution_count": 129,
   "metadata": {
    "scrolled": true
   },
   "outputs": [
    {
     "data": {
      "image/png": "[encoded data removed]",
      "text/plain": [
       "<Figure size 432x288 with 1 Axes>"
      ]
     },
     "metadata": {
      "needs_background": "light"
     },
     "output_type": "display_data"
    },
    {
     "name": "stdout",
     "output_type": "stream",
     "text": [
      "Adaline Accuracy Level: 94.0%\n"
     ]
    }
   ],
   "source": [
    "# Sepal Length & Petal Width\n",
    "twoFeature_description.append(\"Sepal Length & Petal Width\")\n",
    "second_dimension(0,3)\n"
   ]
  },
  {
   "cell_type": "code",
   "execution_count": 130,
   "metadata": {},
   "outputs": [
    {
     "data": {
      "image/png": "[encoded data removed]",
      "text/plain": [
       "<Figure size 432x288 with 1 Axes>"
      ]
     },
     "metadata": {
      "needs_background": "light"
     },
     "output_type": "display_data"
    },
    {
     "name": "stdout",
     "output_type": "stream",
     "text": [
      "Adaline Accuracy Level: 93.0%\n"
     ]
    }
   ],
   "source": [
    "# Sepal Width & Petal Length\n",
    "twoFeature_description.append(\"Sepal Width & Petal Length\")\n",
    "second_dimension(1,2)"
   ]
  },
  {
   "cell_type": "code",
   "execution_count": 131,
   "metadata": {},
   "outputs": [
    {
     "data": {
      "image/png": "[encoded data removed]",
      "text/plain": [
       "<Figure size 432x288 with 1 Axes>"
      ]
     },
     "metadata": {
      "needs_background": "light"
     },
     "output_type": "display_data"
    },
    {
     "name": "stdout",
     "output_type": "stream",
     "text": [
      "Adaline Accuracy Level: 95.0%\n"
     ]
    },
    {
     "data": {
      "image/png": "[encoded data removed]",
      "text/plain": [
       "<Figure size 432x288 with 1 Axes>"
      ]
     },
     "metadata": {
      "needs_background": "light"
     },
     "output_type": "display_data"
    },
    {
     "name": "stdout",
     "output_type": "stream",
     "text": [
      "Adaline Accuracy Level: 94.0%\n"
     ]
    }
   ],
   "source": [
    "# Sepal Width & Petal Width\n",
    "twoFeature_description.append(\"Sepal Width & Petal Width\")\n",
    "second_dimension(1,3)\n",
    "\n",
    "# Petal Length & Petal Width\n",
    "twoFeature_description.append(\"Petal Length & Petal Width\")\n",
    "second_dimension(2,3)"
   ]
  },
  {
   "cell_type": "code",
   "execution_count": 132,
   "metadata": {},
   "outputs": [
    {
     "data": {
      "text/plain": [
       "[75.0, 94.0, 94.0, 93.0, 95.0, 94.0]"
      ]
     },
     "execution_count": 132,
     "metadata": {},
     "output_type": "execute_result"
    }
   ],
   "source": [
    "twoFeature"
   ]
  },
  {
   "cell_type": "markdown",
   "metadata": {},
   "source": [
    "#### The average of the results is 90.8% . Accuracy level in first case is worst which brings down the overall average. If we neglect the first case, then the average goes up to 94%"
   ]
  },
  {
   "cell_type": "markdown",
   "metadata": {},
   "source": [
    "## ALL FOUR CASES OF USING THREE FEATURES AT A TIME"
   ]
  },
  {
   "cell_type": "code",
   "execution_count": 133,
   "metadata": {},
   "outputs": [
    {
     "name": "stdout",
     "output_type": "stream",
     "text": [
      "Adaline Accuracy Level: 93.0%\n",
      "Adaline Accuracy Level: 96.0%\n",
      "Adaline Accuracy Level: 96.0%\n",
      "Adaline Accuracy Level: 95.0%\n"
     ]
    }
   ],
   "source": [
    "threeFeature = []\n",
    "threeFeature_description = []\n",
    "# Sepal Length, Sepal Width, Petal Length\n",
    "threeFeature_description.append(\"Sepal Length, Sepal Width, Petal Length\")\n",
    "third_dimension(0,1,2)\n",
    "# Sepal Width, Petal Length, Petal Width\n",
    "threeFeature_description.append(\"Sepal Width, Petal Length, Petal Width\")\n",
    "third_dimension(1,2,3)\n",
    "# Sepal Length, Petal Length, Petal Width\n",
    "threeFeature_description.append(\"Sepal Length, Petal Length, Petal Width\")\n",
    "third_dimension(0,2,3)\n",
    "# Sepal Length, Sepal Width, Petal Width\n",
    "threeFeature_description.append(\"Sepal Length, Sepal Width, Petal Width\")\n",
    "third_dimension(0,1,3)"
   ]
  },
  {
   "cell_type": "code",
   "execution_count": 134,
   "metadata": {},
   "outputs": [
    {
     "data": {
      "text/plain": [
       "[93.0, 96.0, 96.0, 95.0]"
      ]
     },
     "execution_count": 134,
     "metadata": {},
     "output_type": "execute_result"
    }
   ],
   "source": [
    "threeFeature"
   ]
  },
  {
   "cell_type": "markdown",
   "metadata": {},
   "source": [
    "#### On an average, the accuracy is 95%. This average increases if we take just the last three results and leave out the first one which was the case in twoFeature. Hence the results of threeFeature correlates to the twoFeature. \n",
    "\n",
    "#### Also, increasing a feature, increased the accuracy."
   ]
  },
  {
   "cell_type": "markdown",
   "metadata": {},
   "source": [
    "## THE ONE CASE OF USING ALL FEATURES AT ONCE"
   ]
  },
  {
   "cell_type": "code",
   "execution_count": 135,
   "metadata": {},
   "outputs": [
    {
     "name": "stdout",
     "output_type": "stream",
     "text": [
      "Adaline Accuracy Level: 97.0%\n"
     ]
    }
   ],
   "source": [
    "fourFeature = []\n",
    "fourFeature_description = []\n",
    "# Sepal Length, Sepal Width, Petal Length, Petal Width\n",
    "fourFeature_description.append(\"Sepal Length, Sepal Width, Petal Length, Petal Width\")\n",
    "fourth_dimension(0,1,2,3)"
   ]
  },
  {
   "cell_type": "code",
   "execution_count": 136,
   "metadata": {},
   "outputs": [
    {
     "data": {
      "text/plain": [
       "[97.0]"
      ]
     },
     "execution_count": 136,
     "metadata": {},
     "output_type": "execute_result"
    }
   ],
   "source": [
    "fourFeature"
   ]
  },
  {
   "cell_type": "markdown",
   "metadata": {},
   "source": [
    "#### Increasing another feature resulted the best accuracy."
   ]
  },
  {
   "cell_type": "markdown",
   "metadata": {},
   "source": [
    "## CONCLUSION"
   ]
  },
  {
   "cell_type": "markdown",
   "metadata": {},
   "source": [
    "By comparing Iris-Virginica and Iris-Versicolor, We came to know from the findings that increasing the features helped in improving the accuracy level. Accuracy level is highest in fourFeature at 97%. Sepal width and Sepal length yeilds the worst case accuracy- 75%. Thus, including more dimensions can help when trying to classify this data in Dataset."
   ]
  },
  {
   "cell_type": "code",
   "execution_count": null,
   "metadata": {},
   "outputs": [],
   "source": []
  }
 ],
 "metadata": {
  "anaconda-cloud": {},
  "kernelspec": {
   "display_name": "Python 3",
   "language": "python",
   "name": "python3"
  },
  "language_info": {
   "codemirror_mode": {
    "name": "ipython",
    "version": 3
   },
   "file_extension": ".py",
   "mimetype": "text/x-python",
   "name": "python",
   "nbconvert_exporter": "python",
   "pygments_lexer": "ipython3",
   "version": "3.7.6"
  }
 },
 "nbformat": 4,
 "nbformat_minor": 1
}

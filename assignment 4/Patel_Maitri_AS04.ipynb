{
 "cells": [
  {
   "cell_type": "markdown",
   "metadata": {},
   "source": [
    "## Assingment 4\n",
    "\n",
    "### Tasks:\n",
    "1. Apply the Scikit Learn SVM Classifier to the Iris dataset using all three categories and all four feature at once\n",
    "2. You can use the code we ran in class from the scikit learn documentation as your starting point.\n",
    "\n",
    "I used following different kernels:\n",
    "\n",
    "    a. SVC with RBF kernel\n",
    "    b. SVC with Linear Kernel\n",
    "    c. SVC with polynomial degrees (degrees 2 and 3)\n",
    "    d. SVC with Sigmoid kernel"
   ]
  },
  {
   "cell_type": "code",
   "execution_count": 1,
   "metadata": {},
   "outputs": [],
   "source": [
    "import numpy as np\n",
    "import pandas as pd\n",
    "\n",
    "import matplotlib.pyplot as plt \n",
    "%matplotlib inline\n",
    "\n",
    "from sklearn.model_selection import train_test_split, cross_val_score\n",
    "from sklearn import svm\n",
    "from sklearn import metrics\n",
    "from sklearn.preprocessing import MinMaxScaler"
   ]
  },
  {
   "cell_type": "code",
   "execution_count": 2,
   "metadata": {},
   "outputs": [],
   "source": [
    "# read Iris data set\n",
    "iris = pd.read_csv('https://archive.ics.uci.edu/ml/machine-learning-databases/iris/iris.data', header = None)"
   ]
  },
  {
   "cell_type": "code",
   "execution_count": 12,
   "metadata": {},
   "outputs": [
    {
     "data": {
      "text/html": [
       "<div>\n",
       "<style scoped>\n",
       "    .dataframe tbody tr th:only-of-type {\n",
       "        vertical-align: middle;\n",
       "    }\n",
       "\n",
       "    .dataframe tbody tr th {\n",
       "        vertical-align: top;\n",
       "    }\n",
       "\n",
       "    .dataframe thead th {\n",
       "        text-align: right;\n",
       "    }\n",
       "</style>\n",
       "<table border=\"1\" class=\"dataframe\">\n",
       "  <thead>\n",
       "    <tr style=\"text-align: right;\">\n",
       "      <th></th>\n",
       "      <th>sepal_length</th>\n",
       "      <th>sepal_width</th>\n",
       "      <th>petal_length</th>\n",
       "      <th>petal_width</th>\n",
       "      <th>species</th>\n",
       "    </tr>\n",
       "  </thead>\n",
       "  <tbody>\n",
       "    <tr>\n",
       "      <th>0</th>\n",
       "      <td>5.1</td>\n",
       "      <td>3.5</td>\n",
       "      <td>1.4</td>\n",
       "      <td>0.2</td>\n",
       "      <td>Iris-setosa</td>\n",
       "    </tr>\n",
       "    <tr>\n",
       "      <th>1</th>\n",
       "      <td>4.9</td>\n",
       "      <td>3.0</td>\n",
       "      <td>1.4</td>\n",
       "      <td>0.2</td>\n",
       "      <td>Iris-setosa</td>\n",
       "    </tr>\n",
       "    <tr>\n",
       "      <th>2</th>\n",
       "      <td>4.7</td>\n",
       "      <td>3.2</td>\n",
       "      <td>1.3</td>\n",
       "      <td>0.2</td>\n",
       "      <td>Iris-setosa</td>\n",
       "    </tr>\n",
       "    <tr>\n",
       "      <th>3</th>\n",
       "      <td>4.6</td>\n",
       "      <td>3.1</td>\n",
       "      <td>1.5</td>\n",
       "      <td>0.2</td>\n",
       "      <td>Iris-setosa</td>\n",
       "    </tr>\n",
       "    <tr>\n",
       "      <th>4</th>\n",
       "      <td>5.0</td>\n",
       "      <td>3.6</td>\n",
       "      <td>1.4</td>\n",
       "      <td>0.2</td>\n",
       "      <td>Iris-setosa</td>\n",
       "    </tr>\n",
       "  </tbody>\n",
       "</table>\n",
       "</div>"
      ],
      "text/plain": [
       "   sepal_length  sepal_width  petal_length  petal_width      species\n",
       "0           5.1          3.5           1.4          0.2  Iris-setosa\n",
       "1           4.9          3.0           1.4          0.2  Iris-setosa\n",
       "2           4.7          3.2           1.3          0.2  Iris-setosa\n",
       "3           4.6          3.1           1.5          0.2  Iris-setosa\n",
       "4           5.0          3.6           1.4          0.2  Iris-setosa"
      ]
     },
     "execution_count": 12,
     "metadata": {},
     "output_type": "execute_result"
    }
   ],
   "source": [
    "# Extracting the relevant columns\n",
    "iris.columns = ['sepal_length', 'sepal_width', 'petal_length', 'petal_width', 'species']\n",
    "iris.head()"
   ]
  },
  {
   "cell_type": "markdown",
   "metadata": {},
   "source": [
    "## Splitting the data into training and testing sets"
   ]
  },
  {
   "cell_type": "code",
   "execution_count": 13,
   "metadata": {},
   "outputs": [],
   "source": [
    "# features:\n",
    "X = iris.drop('species', axis = 1)\n",
    "\n",
    "\n",
    "y = iris['species']\n",
    "\n",
    "#split data. We will use 30% training data and 70% testing data\n",
    "X_train, X_test, y_train, y_test = train_test_split(X, y, test_size = 0.6, random_state=20)"
   ]
  },
  {
   "cell_type": "markdown",
   "metadata": {},
   "source": [
    "### Scaling Data\n",
    "\n",
    "It is a good practice to scale the data because SVM algorithms are not scale invariant. We also do it in order to avoid attributes in greater numeric ranges. "
   ]
  },
  {
   "cell_type": "code",
   "execution_count": 14,
   "metadata": {},
   "outputs": [],
   "source": [
    "scaling = MinMaxScaler(feature_range=(-1, 1)).fit(X_train)\n",
    "X_train = scaling.transform(X_train)\n",
    "X_test = scaling.transform(X_test)"
   ]
  },
  {
   "cell_type": "markdown",
   "metadata": {},
   "source": [
    "### Training a model\n",
    "\n",
    "We will now check the accuracy of the model using different kernels."
   ]
  },
  {
   "cell_type": "code",
   "execution_count": 18,
   "metadata": {},
   "outputs": [],
   "source": [
    "models = (svm.SVC(kernel='rbf'),\n",
    "          svm.SVC(kernel='sigmoid'),\n",
    "          svm.SVC(kernel='poly', degree=2, gamma='auto'),\n",
    "          svm.SVC(kernel='poly', degree=3, gamma='auto'),\n",
    "          svm.SVC(kernel='linear'))\n",
    "\n",
    "titles = ['rbf',\n",
    "          'sigmoid',\n",
    "          'poly (deg.2)',\n",
    "          'poly (deg.3)',\n",
    "          'linear']"
   ]
  },
  {
   "cell_type": "markdown",
   "metadata": {},
   "source": [
    "### Cross-validation"
   ]
  },
  {
   "cell_type": "code",
   "execution_count": 20,
   "metadata": {},
   "outputs": [
    {
     "name": "stdout",
     "output_type": "stream",
     "text": [
      "\u001b[1mKernel                                  CV accuracy score   Test accuracy score \u001b[0;0m\n",
      "\n",
      "rbf                                       0.933333            0.966667\n",
      "sigmoid                                   0.950000            0.955556\n",
      "poly (deg.2)                              0.666667            0.588889\n",
      "poly (deg.3)                              0.750000            0.611111\n",
      "linear                                    0.933333            0.966667\n"
     ]
    },
    {
     "data": {
      "text/plain": [
       "([<matplotlib.axis.XTick at 0x270de0186d0>,\n",
       "  <matplotlib.axis.XTick at 0x270de0186a0>,\n",
       "  <matplotlib.axis.XTick at 0x270de0cf340>,\n",
       "  <matplotlib.axis.XTick at 0x270de035e20>,\n",
       "  <matplotlib.axis.XTick at 0x270de040370>],\n",
       " [Text(0, 0, 'rbf'),\n",
       "  Text(0, 0, 'sigmoid'),\n",
       "  Text(0, 0, 'poly (deg.2)'),\n",
       "  Text(0, 0, 'poly (deg.3)'),\n",
       "  Text(0, 0, 'linear')])"
      ]
     },
     "execution_count": 20,
     "metadata": {},
     "output_type": "execute_result"
    },
    {
     "data": {
      "image/png": "[encoded data removed]",
      "text/plain": [
       "<Figure size 576x288 with 1 Axes>"
      ]
     },
     "metadata": {
      "needs_background": "light"
     },
     "output_type": "display_data"
    }
   ],
   "source": [
    "# text format \n",
    "bold_start = \"\\033[1m\"\n",
    "bold_end = \"\\033[0;0m\"\n",
    "\n",
    "print(bold_start + \"{:40}{:20}{:20}\".format('Kernel', 'CV accuracy score', 'Test accuracy score') + bold_end+ '\\n')   \n",
    "accuracy = []\n",
    "for i, model in enumerate(models):\n",
    "    cv_performance = cross_val_score(model, X_train, y_train,cv=10)\n",
    "    test_performance = model.fit(X_train, y_train).score(X_test,y_test)\n",
    "    accuracy.append(test_performance)\n",
    "    print (\"{:40}{:10f}{:20f}\".format(titles[i], np.mean(cv_performance),test_performance))\n",
    "    \n",
    "#visualize\n",
    "plt.close('all')\n",
    "fig, ax = plt.subplots(nrows=1, ncols=1, figsize = (8,4))\n",
    "ax.set_xlabel('Kernel')\n",
    "ax.set_ylabel('Test accuracy score')\n",
    "ax.set_title(\"Test accuracy for different kernels\", fontsize ='medium')\n",
    "y_pos = np.arange(len(titles))\n",
    "ax.bar(y_pos,accuracy, label='train')\n",
    "plt.xticks(y_pos, titles)"
   ]
  },
  {
   "cell_type": "markdown",
   "metadata": {},
   "source": [
    "One thing which we can clearly see from the graph is that polynomial kernel gives the least accurate results."
   ]
  },
  {
   "cell_type": "markdown",
   "metadata": {},
   "source": [
    "### Looking for better parameters\n",
    "\n",
    "We can use the grid-search to search for the best combination of kernels and parameters. The code will test different combinations of Linear and RBF together with gamma and C parameters. A large value of C will give low bias and large variance. Large gamma will give large bias and low variance. Over-fitting will occur with the higher value of gamma."
   ]
  },
  {
   "cell_type": "code",
   "execution_count": 21,
   "metadata": {},
   "outputs": [
    {
     "name": "stdout",
     "output_type": "stream",
     "text": [
      "Best parameter: {'C': 10, 'kernel': 'linear'}\n",
      "Cross-validation accuracy score: 0.950, test accuracy score: 0.967\n"
     ]
    }
   ],
   "source": [
    "from sklearn.model_selection import GridSearchCV\n",
    "\n",
    "learning_algo = svm.SVC(kernel='linear', random_state=101)\n",
    "\n",
    "search_space = [{'kernel': ['linear'], 'C': [1, 10, 100, 1000]},\n",
    "                {'kernel': ['rbf'], 'C': [1, 10, 100, 1000], 'gamma': [0, 0.1, 0.01, 0.001, 0.0001]},\n",
    "                {'kernel': ['sigmoid'], 'C': [1, 10, 100, 1000], 'gamma': [0, 0.1, 0.01, 0.001, 0.0001]},\n",
    "                {'kernel': ['poly'], 'C': [1, 10, 100, 1000], 'gamma': [0, 0.1, 0.01, 0.001, 0.0001], 'degree':[1,2,3,4,5]}]\n",
    "\n",
    "gridsearch = GridSearchCV(learning_algo, param_grid=search_space, refit=True, cv=10)\n",
    "gridsearch.fit(X_train,y_train)\n",
    "print ('Best parameter: '+ str(gridsearch.best_params_))\n",
    "\n",
    "cv_performance = gridsearch.best_score_\n",
    "test_performance = gridsearch.score(X_test, y_test)\n",
    "\n",
    "print ('Cross-validation accuracy score: %0.3f,'\n",
    "' test accuracy score: %0.3f'\n",
    "% (cv_performance,test_performance))"
   ]
  },
  {
   "cell_type": "markdown",
   "metadata": {},
   "source": [
    "Hence, Linear kernel works best for this data. RBF gives close accuracy after Linear."
   ]
  },
  {
   "cell_type": "markdown",
   "metadata": {},
   "source": [
    "### Let's see if we can improve poly kernel perfomance"
   ]
  },
  {
   "cell_type": "code",
   "execution_count": 11,
   "metadata": {},
   "outputs": [
    {
     "name": "stdout",
     "output_type": "stream",
     "text": [
      "Best parameter: {'C': 1000, 'degree': 3, 'gamma': 0.1, 'kernel': 'poly'}\n",
      "\n",
      "\u001b[1mCross-validation accuracy score: 0.933, test accuracy score: 0.933\u001b[0;0m\n"
     ]
    }
   ],
   "source": [
    "learning_algo = svm.SVC(kernel='linear', random_state=101)\n",
    "\n",
    "search_space = [{'kernel': ['poly'], 'C': [1, 10, 100, 1000], \n",
    "                 'gamma': [0, 0.1, 0.01, 0.001, 0.0001], \n",
    "                 'degree':[2,3,4,5]}]\n",
    "\n",
    "gridsearch = GridSearchCV(learning_algo, param_grid=search_space, refit=True, cv=10)\n",
    "gridsearch.fit(X_train,y_train)\n",
    "print ('Best parameter: '+ str(gridsearch.best_params_))\n",
    "\n",
    "cv_performance = gridsearch.best_score_\n",
    "test_performance = gridsearch.score(X_test, y_test)\n",
    "\n",
    "print ('\\n'+ bold_start+'Cross-validation accuracy score: %0.3f,'\n",
    "' test accuracy score: %0.3f'\n",
    "% (cv_performance,test_performance)+bold_end)"
   ]
  },
  {
   "cell_type": "markdown",
   "metadata": {},
   "source": [
    "Large value of C will give smaller margin and take more time to train. "
   ]
  },
  {
   "cell_type": "markdown",
   "metadata": {},
   "source": [
    "## Summary"
   ]
  },
  {
   "cell_type": "markdown",
   "metadata": {},
   "source": [
    "Here we analyzed the Iris dataset with different kernels to get the accurate results. \n",
    "\n",
    "After scaling the data, training the data, and cross-validation, we came to know that the two most fitting kernels which gave the best accurate results are linear and RBF (accuracy 96.7%). Whereas, Sigmold also gave us the good accuracy of 95.5%. However, polynomial kernels gave the least accurate results of 58.8% for degree 2 and 61.1% for degree 3."
   ]
  },
  {
   "cell_type": "markdown",
   "metadata": {},
   "source": [
    "Moving forward, we also used other parameters like C, Gamma, and degree which lead us to better performance. Parameter C = 10 yeilded the same accuarcy for Linear model of 96.7% .We weren't able to improve the already high accuracy.\n",
    "\n",
    "However, we were able to successfully increase the accuracy for Polynomial kernels from 61.1% to 93.3% of degree 3. We got this result using C = 100 and gamma = 0.1. We used grid-search for the combinations to get the results."
   ]
  }
 ],
 "metadata": {
  "kernelspec": {
   "display_name": "Python 3",
   "language": "python",
   "name": "python3"
  },
  "language_info": {
   "codemirror_mode": {
    "name": "ipython",
    "version": 3
   },
   "file_extension": ".py",
   "mimetype": "text/x-python",
   "name": "python",
   "nbconvert_exporter": "python",
   "pygments_lexer": "ipython3",
   "version": "3.8.3"
  }
 },
 "nbformat": 4,
 "nbformat_minor": 4
}
